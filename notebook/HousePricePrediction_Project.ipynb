{
  "cells": [
    {
      "cell_type": "markdown",
      "metadata": {
        "id": "CDu-8IqkYWBu"
      },
      "source": [
        "**Project Description**:\n",
        "\n",
        "The goal of this project is to predict house price based on real estate features extracted for houses in Bengaluru. The major sequence of steps in the coding process are listed below:\n",
        "\n",
        "1.   Load and clean up the data.\n",
        "2.   Analyze the features (*ordinal, categorical*, and *continuous*) for missingness, correct data type association, and distribution.\n",
        "3.   Spit the data into train and test sets..\n",
        "4.   Build an ML pipeline (*encoder -> imputer -> regression module*) for the train set by specifying seperate encoding and imputing steps (if needed) for ordinal, categorical, and continuous features.\n",
        "5.   Train the ML pipeline on the train set and apply it for prediction on the test set.\n",
        "6.   Report performance metrics"
      ]
    },
    {
      "cell_type": "markdown",
      "metadata": {
        "id": "X8dZYSUNSz3H"
      },
      "source": [
        "---\n",
        "\n",
        "Import libraries\n",
        "\n",
        "---"
      ]
    },
    {
      "cell_type": "code",
      "execution_count": 23,
      "metadata": {
        "id": "hlm9I_zaS3yy"
      },
      "outputs": [],
      "source": [
        "import pandas as pd\n",
        "import numpy as np\n",
        "import os\n",
        "import sys\n",
        "import math\n",
        "import matplotlib.pyplot as plt\n",
        "import matplotlib.cm as cm\n",
        "plt.style.use('dark_background')\n",
        "%matplotlib inline\n",
        "\n",
        "## Pipeline module\n",
        "from sklearn.pipeline import Pipeline\n",
        "\n",
        "## Scaling, encoding, and imputation libraries\n",
        "from sklearn.preprocessing import StandardScaler, RobustScaler, MinMaxScaler, OneHotEncoder, OrdinalEncoder, LabelEncoder\n",
        "from sklearn.experimental import enable_iterative_imputer\n",
        "from sklearn.impute import SimpleImputer, IterativeImputer\n",
        "\n",
        "# Column trandformation library\n",
        "from sklearn.compose import ColumnTransformer\n",
        "\n",
        "## Train-test, cross-validation, and grid search modules\n",
        "from sklearn.model_selection import train_test_split\n",
        "\n",
        "## Cross-validation and grid search modules\n",
        "from sklearn.model_selection import KFold, StratifiedKFold, GridSearchCV, cross_val_score\n",
        "\n",
        "## Regression modules\n",
        "from sklearn import linear_model\n",
        "\n",
        "## Performance metrics modules\n",
        "from sklearn.metrics import mean_squared_error, r2_score"
      ]
    },
    {
      "cell_type": "markdown",
      "metadata": {
        "id": "hAR_5NRyS7vy"
      },
      "source": [
        "---\n",
        "\n",
        "Mount Google Drive if running in Colab\n",
        "\n",
        "---"
      ]
    },
    {
      "cell_type": "code",
      "execution_count": 24,
      "metadata": {
        "id": "l5SiOb2OS-eC"
      },
      "outputs": [],
      "source": [
        "## Mount Google drive folder if running in Colab\n",
        "if('google.colab' in sys.modules):\n",
        "    from google.colab import drive\n",
        "    drive.mount('/content/drive', force_remount = True)\n",
        "    DIR = '/content/drive/MyDrive/Colab Notebooks/MAHE/MSIS Coursework/EvenSem2024MAHE'\n",
        "    DATA_DIR = DIR + '/Data/'\n",
        "    os.chdir(DIR)\n",
        "else:\n",
        "    DATA_DIR = 'Data/'"
      ]
    },
    {
      "cell_type": "markdown",
      "metadata": {
        "id": "9FPkLtSaXfkQ"
      },
      "source": [
        "---\n",
        "\n",
        "Load bengaluru house price data\n",
        "\n",
        "---"
      ]
    },
    {
      "cell_type": "code",
      "execution_count": 25,
      "metadata": {
        "id": "-9h-n1ndXioQ"
      },
      "outputs": [
        {
          "name": "stdout",
          "output_type": "stream",
          "text": [
            "Bengaluru house price dataset\n",
            "-----------\n",
            "Initial number of samples = 225\n",
            "Initial number of features = 9\n",
            "\n"
          ]
        },
        {
          "data": {
            "text/html": [
              "<div>\n",
              "<style scoped>\n",
              "    .dataframe tbody tr th:only-of-type {\n",
              "        vertical-align: middle;\n",
              "    }\n",
              "\n",
              "    .dataframe tbody tr th {\n",
              "        vertical-align: top;\n",
              "    }\n",
              "\n",
              "    .dataframe thead th {\n",
              "        text-align: right;\n",
              "    }\n",
              "</style>\n",
              "<table border=\"1\" class=\"dataframe\">\n",
              "  <thead>\n",
              "    <tr style=\"text-align: right;\">\n",
              "      <th></th>\n",
              "      <th>locality</th>\n",
              "      <th>title</th>\n",
              "      <th>area</th>\n",
              "      <th>rent</th>\n",
              "      <th>price_per_sqft</th>\n",
              "      <th>facing</th>\n",
              "      <th>BHK</th>\n",
              "      <th>bathrooms</th>\n",
              "      <th>parking</th>\n",
              "    </tr>\n",
              "  </thead>\n",
              "  <tbody>\n",
              "    <tr>\n",
              "      <th>0</th>\n",
              "      <td>BTM Layout</td>\n",
              "      <td>1 BHK Apartment  For Sale  In Sandy Villa, Btm...</td>\n",
              "      <td>565 sqft</td>\n",
              "      <td>20,060/Month</td>\n",
              "      <td>₹6,195 per sq.ft.</td>\n",
              "      <td>North-West</td>\n",
              "      <td>1 BHK</td>\n",
              "      <td>1</td>\n",
              "      <td>Bike</td>\n",
              "    </tr>\n",
              "    <tr>\n",
              "      <th>1</th>\n",
              "      <td>BTM Layout</td>\n",
              "      <td>3 BHK Apartment  For Sale  In Sobha Magnolia I...</td>\n",
              "      <td>1,837 sqft</td>\n",
              "      <td>97,434/Month</td>\n",
              "      <td>₹9,254 per sq.ft.</td>\n",
              "      <td>East</td>\n",
              "      <td>3 BHK</td>\n",
              "      <td>3</td>\n",
              "      <td>Bike and Car</td>\n",
              "    </tr>\n",
              "    <tr>\n",
              "      <th>2</th>\n",
              "      <td>BTM Layout</td>\n",
              "      <td>2 BHK Flat  For Sale  In Nandi Jewels In Btm 2...</td>\n",
              "      <td>1,280 sqft</td>\n",
              "      <td>54,448/Month</td>\n",
              "      <td>₹7,422 per sq.ft.</td>\n",
              "      <td>East</td>\n",
              "      <td>2 BHK</td>\n",
              "      <td>2</td>\n",
              "      <td>Car</td>\n",
              "    </tr>\n",
              "    <tr>\n",
              "      <th>3</th>\n",
              "      <td>BTM Layout</td>\n",
              "      <td>3 BHK Apartment  For Sale  In Brigade Lakeview...</td>\n",
              "      <td>2,220 sqft</td>\n",
              "      <td>1.17 Lacs/Month</td>\n",
              "      <td>₹9,234 per sq.ft.</td>\n",
              "      <td>North</td>\n",
              "      <td>3 BHK</td>\n",
              "      <td>3</td>\n",
              "      <td>Bike and Car</td>\n",
              "    </tr>\n",
              "    <tr>\n",
              "      <th>4</th>\n",
              "      <td>BTM Layout</td>\n",
              "      <td>2 BHK Apartment  For Sale  In Niranjan Central...</td>\n",
              "      <td>1,113 sqft</td>\n",
              "      <td>34,388/Month</td>\n",
              "      <td>₹5,391 per sq.ft.</td>\n",
              "      <td>East</td>\n",
              "      <td>2 BHK</td>\n",
              "      <td>2</td>\n",
              "      <td>Bike and Car</td>\n",
              "    </tr>\n",
              "  </tbody>\n",
              "</table>\n",
              "</div>"
            ],
            "text/plain": [
              "     locality                                              title        area  \\\n",
              "0  BTM Layout  1 BHK Apartment  For Sale  In Sandy Villa, Btm...    565 sqft   \n",
              "1  BTM Layout  3 BHK Apartment  For Sale  In Sobha Magnolia I...  1,837 sqft   \n",
              "2  BTM Layout  2 BHK Flat  For Sale  In Nandi Jewels In Btm 2...  1,280 sqft   \n",
              "3  BTM Layout  3 BHK Apartment  For Sale  In Brigade Lakeview...  2,220 sqft   \n",
              "4  BTM Layout  2 BHK Apartment  For Sale  In Niranjan Central...  1,113 sqft   \n",
              "\n",
              "              rent     price_per_sqft      facing    BHK  bathrooms  \\\n",
              "0     20,060/Month  ₹6,195 per sq.ft.  North-West  1 BHK          1   \n",
              "1     97,434/Month  ₹9,254 per sq.ft.        East  3 BHK          3   \n",
              "2     54,448/Month  ₹7,422 per sq.ft.        East  2 BHK          2   \n",
              "3  1.17 Lacs/Month  ₹9,234 per sq.ft.       North  3 BHK          3   \n",
              "4     34,388/Month  ₹5,391 per sq.ft.        East  2 BHK          2   \n",
              "\n",
              "        parking  \n",
              "0          Bike  \n",
              "1  Bike and Car  \n",
              "2           Car  \n",
              "3  Bike and Car  \n",
              "4  Bike and Car  "
            ]
          },
          "execution_count": 25,
          "metadata": {},
          "output_type": "execute_result"
        }
      ],
      "source": [
        "## Load Bengaluru house price data\n",
        "file = DATA_DIR+'houseprices.csv'\n",
        "df= pd.read_csv(file, header = 0)\n",
        "\n",
        "print('Bengaluru house price dataset')\n",
        "print('-----------')\n",
        "print('Initial number of samples = %d'%(df.shape[0]))\n",
        "print('Initial number of features = %d\\n'%(df.shape[1]))\n",
        "df.head(5)"
      ]
    },
    {
      "cell_type": "markdown",
      "metadata": {
        "id": "kh6EfFzhYFV2"
      },
      "source": [
        "---\n",
        "\n",
        "Clean up data\n",
        "\n",
        "----"
      ]
    },
    {
      "cell_type": "code",
      "execution_count": 27,
      "metadata": {
        "id": "Iw1iq4oQYH0E"
      },
      "outputs": [
        {
          "ename": "KeyError",
          "evalue": "\"['title'] not found in axis\"",
          "output_type": "error",
          "traceback": [
            "\u001b[1;31m---------------------------------------------------------------------------\u001b[0m",
            "\u001b[1;31mKeyError\u001b[0m                                  Traceback (most recent call last)",
            "Cell \u001b[1;32mIn[27], line 3\u001b[0m\n\u001b[0;32m      1\u001b[0m \u001b[39m## Clean up data\u001b[39;00m\n\u001b[0;32m      2\u001b[0m \u001b[39m# Remove 'title' column\u001b[39;00m\n\u001b[1;32m----> 3\u001b[0m df\u001b[39m.\u001b[39;49mdrop(\u001b[39m'\u001b[39;49m\u001b[39mtitle\u001b[39;49m\u001b[39m'\u001b[39;49m, axis \u001b[39m=\u001b[39;49m \u001b[39m1\u001b[39;49m, inplace \u001b[39m=\u001b[39;49m \u001b[39mTrue\u001b[39;49;00m)\n\u001b[0;32m      5\u001b[0m \u001b[39m# Retain only numerical values in area column\u001b[39;00m\n\u001b[0;32m      6\u001b[0m df[\u001b[39m'\u001b[39m\u001b[39marea\u001b[39m\u001b[39m'\u001b[39m] \u001b[39m=\u001b[39m df[\u001b[39m'\u001b[39m\u001b[39marea\u001b[39m\u001b[39m'\u001b[39m]\u001b[39m.\u001b[39mapply(\u001b[39mlambda\u001b[39;00m x: \u001b[39mfloat\u001b[39m(x\u001b[39m.\u001b[39msplit(\u001b[39m'\u001b[39m\u001b[39m \u001b[39m\u001b[39m'\u001b[39m)[\u001b[39m0\u001b[39m]\u001b[39m.\u001b[39mreplace(\u001b[39m'\u001b[39m\u001b[39m,\u001b[39m\u001b[39m'\u001b[39m, \u001b[39m'\u001b[39m\u001b[39m'\u001b[39m)) \u001b[39mif\u001b[39;00m \u001b[39misinstance\u001b[39m(x, \u001b[39mstr\u001b[39m) \u001b[39melse\u001b[39;00m x)\n",
            "File \u001b[1;32mc:\\Users\\Admin\\AppData\\Local\\Programs\\Python\\Python310\\lib\\site-packages\\pandas\\util\\_decorators.py:331\u001b[0m, in \u001b[0;36mdeprecate_nonkeyword_arguments.<locals>.decorate.<locals>.wrapper\u001b[1;34m(*args, **kwargs)\u001b[0m\n\u001b[0;32m    325\u001b[0m \u001b[39mif\u001b[39;00m \u001b[39mlen\u001b[39m(args) \u001b[39m>\u001b[39m num_allow_args:\n\u001b[0;32m    326\u001b[0m     warnings\u001b[39m.\u001b[39mwarn(\n\u001b[0;32m    327\u001b[0m         msg\u001b[39m.\u001b[39mformat(arguments\u001b[39m=\u001b[39m_format_argument_list(allow_args)),\n\u001b[0;32m    328\u001b[0m         \u001b[39mFutureWarning\u001b[39;00m,\n\u001b[0;32m    329\u001b[0m         stacklevel\u001b[39m=\u001b[39mfind_stack_level(),\n\u001b[0;32m    330\u001b[0m     )\n\u001b[1;32m--> 331\u001b[0m \u001b[39mreturn\u001b[39;00m func(\u001b[39m*\u001b[39margs, \u001b[39m*\u001b[39m\u001b[39m*\u001b[39mkwargs)\n",
            "File \u001b[1;32mc:\\Users\\Admin\\AppData\\Local\\Programs\\Python\\Python310\\lib\\site-packages\\pandas\\core\\frame.py:5399\u001b[0m, in \u001b[0;36mDataFrame.drop\u001b[1;34m(self, labels, axis, index, columns, level, inplace, errors)\u001b[0m\n\u001b[0;32m   5251\u001b[0m \u001b[39m@deprecate_nonkeyword_arguments\u001b[39m(version\u001b[39m=\u001b[39m\u001b[39mNone\u001b[39;00m, allowed_args\u001b[39m=\u001b[39m[\u001b[39m\"\u001b[39m\u001b[39mself\u001b[39m\u001b[39m\"\u001b[39m, \u001b[39m\"\u001b[39m\u001b[39mlabels\u001b[39m\u001b[39m\"\u001b[39m])\n\u001b[0;32m   5252\u001b[0m \u001b[39mdef\u001b[39;00m \u001b[39mdrop\u001b[39m(  \u001b[39m# type: ignore[override]\u001b[39;00m\n\u001b[0;32m   5253\u001b[0m     \u001b[39mself\u001b[39m,\n\u001b[1;32m   (...)\u001b[0m\n\u001b[0;32m   5260\u001b[0m     errors: IgnoreRaise \u001b[39m=\u001b[39m \u001b[39m\"\u001b[39m\u001b[39mraise\u001b[39m\u001b[39m\"\u001b[39m,\n\u001b[0;32m   5261\u001b[0m ) \u001b[39m-\u001b[39m\u001b[39m>\u001b[39m DataFrame \u001b[39m|\u001b[39m \u001b[39mNone\u001b[39;00m:\n\u001b[0;32m   5262\u001b[0m \u001b[39m    \u001b[39m\u001b[39m\"\"\"\u001b[39;00m\n\u001b[0;32m   5263\u001b[0m \u001b[39m    Drop specified labels from rows or columns.\u001b[39;00m\n\u001b[0;32m   5264\u001b[0m \n\u001b[1;32m   (...)\u001b[0m\n\u001b[0;32m   5397\u001b[0m \u001b[39m            weight  1.0     0.8\u001b[39;00m\n\u001b[0;32m   5398\u001b[0m \u001b[39m    \"\"\"\u001b[39;00m\n\u001b[1;32m-> 5399\u001b[0m     \u001b[39mreturn\u001b[39;00m \u001b[39msuper\u001b[39;49m()\u001b[39m.\u001b[39;49mdrop(\n\u001b[0;32m   5400\u001b[0m         labels\u001b[39m=\u001b[39;49mlabels,\n\u001b[0;32m   5401\u001b[0m         axis\u001b[39m=\u001b[39;49maxis,\n\u001b[0;32m   5402\u001b[0m         index\u001b[39m=\u001b[39;49mindex,\n\u001b[0;32m   5403\u001b[0m         columns\u001b[39m=\u001b[39;49mcolumns,\n\u001b[0;32m   5404\u001b[0m         level\u001b[39m=\u001b[39;49mlevel,\n\u001b[0;32m   5405\u001b[0m         inplace\u001b[39m=\u001b[39;49minplace,\n\u001b[0;32m   5406\u001b[0m         errors\u001b[39m=\u001b[39;49merrors,\n\u001b[0;32m   5407\u001b[0m     )\n",
            "File \u001b[1;32mc:\\Users\\Admin\\AppData\\Local\\Programs\\Python\\Python310\\lib\\site-packages\\pandas\\util\\_decorators.py:331\u001b[0m, in \u001b[0;36mdeprecate_nonkeyword_arguments.<locals>.decorate.<locals>.wrapper\u001b[1;34m(*args, **kwargs)\u001b[0m\n\u001b[0;32m    325\u001b[0m \u001b[39mif\u001b[39;00m \u001b[39mlen\u001b[39m(args) \u001b[39m>\u001b[39m num_allow_args:\n\u001b[0;32m    326\u001b[0m     warnings\u001b[39m.\u001b[39mwarn(\n\u001b[0;32m    327\u001b[0m         msg\u001b[39m.\u001b[39mformat(arguments\u001b[39m=\u001b[39m_format_argument_list(allow_args)),\n\u001b[0;32m    328\u001b[0m         \u001b[39mFutureWarning\u001b[39;00m,\n\u001b[0;32m    329\u001b[0m         stacklevel\u001b[39m=\u001b[39mfind_stack_level(),\n\u001b[0;32m    330\u001b[0m     )\n\u001b[1;32m--> 331\u001b[0m \u001b[39mreturn\u001b[39;00m func(\u001b[39m*\u001b[39margs, \u001b[39m*\u001b[39m\u001b[39m*\u001b[39mkwargs)\n",
            "File \u001b[1;32mc:\\Users\\Admin\\AppData\\Local\\Programs\\Python\\Python310\\lib\\site-packages\\pandas\\core\\generic.py:4505\u001b[0m, in \u001b[0;36mNDFrame.drop\u001b[1;34m(self, labels, axis, index, columns, level, inplace, errors)\u001b[0m\n\u001b[0;32m   4503\u001b[0m \u001b[39mfor\u001b[39;00m axis, labels \u001b[39min\u001b[39;00m axes\u001b[39m.\u001b[39mitems():\n\u001b[0;32m   4504\u001b[0m     \u001b[39mif\u001b[39;00m labels \u001b[39mis\u001b[39;00m \u001b[39mnot\u001b[39;00m \u001b[39mNone\u001b[39;00m:\n\u001b[1;32m-> 4505\u001b[0m         obj \u001b[39m=\u001b[39m obj\u001b[39m.\u001b[39;49m_drop_axis(labels, axis, level\u001b[39m=\u001b[39;49mlevel, errors\u001b[39m=\u001b[39;49merrors)\n\u001b[0;32m   4507\u001b[0m \u001b[39mif\u001b[39;00m inplace:\n\u001b[0;32m   4508\u001b[0m     \u001b[39mself\u001b[39m\u001b[39m.\u001b[39m_update_inplace(obj)\n",
            "File \u001b[1;32mc:\\Users\\Admin\\AppData\\Local\\Programs\\Python\\Python310\\lib\\site-packages\\pandas\\core\\generic.py:4546\u001b[0m, in \u001b[0;36mNDFrame._drop_axis\u001b[1;34m(self, labels, axis, level, errors, only_slice)\u001b[0m\n\u001b[0;32m   4544\u001b[0m         new_axis \u001b[39m=\u001b[39m axis\u001b[39m.\u001b[39mdrop(labels, level\u001b[39m=\u001b[39mlevel, errors\u001b[39m=\u001b[39merrors)\n\u001b[0;32m   4545\u001b[0m     \u001b[39melse\u001b[39;00m:\n\u001b[1;32m-> 4546\u001b[0m         new_axis \u001b[39m=\u001b[39m axis\u001b[39m.\u001b[39;49mdrop(labels, errors\u001b[39m=\u001b[39;49merrors)\n\u001b[0;32m   4547\u001b[0m     indexer \u001b[39m=\u001b[39m axis\u001b[39m.\u001b[39mget_indexer(new_axis)\n\u001b[0;32m   4549\u001b[0m \u001b[39m# Case for non-unique axis\u001b[39;00m\n\u001b[0;32m   4550\u001b[0m \u001b[39melse\u001b[39;00m:\n",
            "File \u001b[1;32mc:\\Users\\Admin\\AppData\\Local\\Programs\\Python\\Python310\\lib\\site-packages\\pandas\\core\\indexes\\base.py:6934\u001b[0m, in \u001b[0;36mIndex.drop\u001b[1;34m(self, labels, errors)\u001b[0m\n\u001b[0;32m   6932\u001b[0m \u001b[39mif\u001b[39;00m mask\u001b[39m.\u001b[39many():\n\u001b[0;32m   6933\u001b[0m     \u001b[39mif\u001b[39;00m errors \u001b[39m!=\u001b[39m \u001b[39m\"\u001b[39m\u001b[39mignore\u001b[39m\u001b[39m\"\u001b[39m:\n\u001b[1;32m-> 6934\u001b[0m         \u001b[39mraise\u001b[39;00m \u001b[39mKeyError\u001b[39;00m(\u001b[39mf\u001b[39m\u001b[39m\"\u001b[39m\u001b[39m{\u001b[39;00m\u001b[39mlist\u001b[39m(labels[mask])\u001b[39m}\u001b[39;00m\u001b[39m not found in axis\u001b[39m\u001b[39m\"\u001b[39m)\n\u001b[0;32m   6935\u001b[0m     indexer \u001b[39m=\u001b[39m indexer[\u001b[39m~\u001b[39mmask]\n\u001b[0;32m   6936\u001b[0m \u001b[39mreturn\u001b[39;00m \u001b[39mself\u001b[39m\u001b[39m.\u001b[39mdelete(indexer)\n",
            "\u001b[1;31mKeyError\u001b[0m: \"['title'] not found in axis\""
          ]
        }
      ],
      "source": [
        "## Clean up data\n",
        "# Remove 'title' column\n",
        "#df.drop('title', axis = 1, inplace = True)\n",
        "\n",
        "# Retain only numerical values in area column\n",
        "df['area'] = df['area'].apply(lambda x: float(x.split(' ')[0].replace(',', '')) if isinstance(x, str) else x)\n",
        "\n",
        "# Retain only numerical values in rent column\n",
        "def rent_column_modify(val):\n",
        "  if isinstance(val, str):\n",
        "    if 'Lacs' in val:\n",
        "      return(float(val.split(' ')[0].split('/')[0].replace(',', ''))*1e5)\n",
        "    else:\n",
        "      return(float(val.split('/')[0].replace(',', '')))\n",
        "  else:\n",
        "    return val\n",
        "df['rent'] = df['rent'].apply(rent_column_modify)\n",
        "\n",
        "# Retain only numerical values in the price_per_sqft column\n",
        "df['price_per_sqft'] = df['price_per_sqft'].apply(lambda x: float(x.replace('₹', '').split(' ')[0].replace(',', '')) if isinstance(x, str) else x)\n",
        "\n",
        "# Retain only numerical values in BHK columns\n",
        "df['BHK'] = df['BHK'].apply(lambda x: int(x.split(' ')[0].replace('+', '')))\n",
        "\n",
        "# Change 'Don't Know' entries in 'facing' column to NaN\n",
        "df['facing'] = df['facing'].apply(lambda x: x if x != \"Don't Know\" else np.nan)\n",
        "\n",
        "# Change 'None' entries in 'parking' column to Nan\n",
        "df['parking'] = df['parking'].apply(lambda x: np.nan if x == 'None' else x)\n",
        "\n"
      ]
    },
    {
      "cell_type": "code",
      "execution_count": 28,
      "metadata": {},
      "outputs": [
        {
          "data": {
            "text/plain": [
              "Index(['locality', 'area', 'rent', 'price_per_sqft', 'facing', 'BHK',\n",
              "       'bathrooms', 'parking'],\n",
              "      dtype='object')"
            ]
          },
          "execution_count": 28,
          "metadata": {},
          "output_type": "execute_result"
        }
      ],
      "source": [
        "df.columns"
      ]
    },
    {
      "cell_type": "markdown",
      "metadata": {
        "id": "6k4npZ0XFlpy"
      },
      "source": [
        "---\n",
        "\n",
        "Plot percentage of missing values (NaNs) for each feature\n",
        "\n",
        "---"
      ]
    },
    {
      "cell_type": "code",
      "execution_count": 29,
      "metadata": {
        "id": "yXisytC6Fj9C"
      },
      "outputs": [
        {
          "data": {
            "image/png": "[encoded data removed]",
            "text/plain": [
              "<Figure size 400x400 with 1 Axes>"
            ]
          },
          "metadata": {},
          "output_type": "display_data"
        }
      ],
      "source": [
        "## Plot percentage of missing values (NaNs) for each feature\n",
        "cutoff = 10 # we will remove features missing in more than cutoff% of the samples\n",
        "fig = plt.figure(figsize=(4, 4))\n",
        "percent_missing = (df.isnull().sum() / df.shape[0]) * 100\n",
        "percent_missing.plot(kind = 'bar', color = cm.rainbow(np.linspace(0, 1, 2))[(percent_missing <= cutoff).values.astype(int)])\n",
        "plt.plot(np.arange(df.shape[1]), np.repeat(cutoff, df.shape[1]), 'g--')\n",
        "fig.suptitle('Percentage Missing Values Across All Features', fontsize = 10)\n",
        "plt.xlabel('Feature', fontsize = 8)\n",
        "plt.ylabel('% Missing Values', fontsize = 8);"
      ]
    },
    {
      "cell_type": "markdown",
      "metadata": {
        "id": "2zD6chdEHfWC"
      },
      "source": [
        "---\n",
        "\n",
        "Create lists of ordinal, categorical, and continuous features\n",
        "\n",
        "---"
      ]
    },
    {
      "cell_type": "code",
      "execution_count": 30,
      "metadata": {
        "id": "PLKUpPV-HdyA"
      },
      "outputs": [],
      "source": [
        "## Create lists of ordinal, categorical, and continuous features\n",
        "ordinal_features = ['BHK', 'bathrooms']\n",
        "categorical_features = ['locality', 'facing', 'parking']\n",
        "continuous_features = (df.drop(ordinal_features, axis = 1)).drop(categorical_features, axis = 1).columns.tolist()"
      ]
    },
    {
      "cell_type": "markdown",
      "metadata": {
        "id": "IO0VqHgXIqiJ"
      },
      "source": [
        "---\n",
        "\n",
        "Assign 'category' datatype to ordinal and categorical columns\n",
        "\n",
        "---"
      ]
    },
    {
      "cell_type": "code",
      "execution_count": 31,
      "metadata": {
        "id": "cB1ZL1BVIpBu"
      },
      "outputs": [
        {
          "name": "stdout",
          "output_type": "stream",
          "text": [
            "locality           object\n",
            "area              float64\n",
            "rent              float64\n",
            "price_per_sqft    float64\n",
            "facing             object\n",
            "BHK                 int64\n",
            "bathrooms           int64\n",
            "parking            object\n",
            "dtype: object\n",
            "----\n"
          ]
        },
        {
          "data": {
            "text/plain": [
              "locality          category\n",
              "area               float64\n",
              "rent               float64\n",
              "price_per_sqft     float64\n",
              "facing            category\n",
              "BHK               category\n",
              "bathrooms         category\n",
              "parking           category\n",
              "dtype: object"
            ]
          },
          "execution_count": 31,
          "metadata": {},
          "output_type": "execute_result"
        }
      ],
      "source": [
        "## Assign 'category' datatype to ordinal and categorical columns\n",
        "print(df.dtypes)\n",
        "df[ordinal_features + categorical_features] = df[ordinal_features + categorical_features].astype('category')\n",
        "print('----')\n",
        "df.dtypes"
      ]
    },
    {
      "cell_type": "markdown",
      "metadata": {
        "id": "HCvU-GzoJNcY"
      },
      "source": [
        "---\n",
        "\n",
        "Print unique values in each ordinal and categorical features\n",
        "\n",
        "---"
      ]
    },
    {
      "cell_type": "code",
      "execution_count": 32,
      "metadata": {
        "id": "IHR5cD5NJMQV"
      },
      "outputs": [
        {
          "name": "stdout",
          "output_type": "stream",
          "text": [
            "BHK           4\n",
            "bathrooms    10\n",
            "locality      9\n",
            "facing        7\n",
            "parking       3\n",
            "dtype: int64\n",
            "\n",
            "Unique values in ordinal and categorical features\n",
            "---------------------------------------------------\n",
            "BHK [1, 3, 2, 4]\n",
            "bathrooms [1, 3, 2, 5, 13, 4, 26, 16, 6, 14]\n",
            "locality ['BTM Layout', 'Attibele', 'K R Puram ', 'Marathahalli', 'Indiranagar', 'Electronic City', 'Yalahanka', 'Malleshwaram', 'Jayanagar']\n",
            "facing ['North-West', 'East', 'North', 'West', 'North-East', 'South-East', 'South', nan]\n",
            "parking ['Bike', 'Bike and Car', 'Car', nan]\n"
          ]
        }
      ],
      "source": [
        "## Print unique values in each ordinal and categorical features\n",
        "print(df[ordinal_features + categorical_features].nunique())\n",
        "print('\\nUnique values in ordinal and categorical features')\n",
        "print('---------------------------------------------------')\n",
        "unique_values = {col:list(df[col].unique()) for col in ordinal_features + categorical_features}\n",
        "for key, value in unique_values.items():\n",
        "  print(key, value)"
      ]
    },
    {
      "cell_type": "markdown",
      "metadata": {
        "id": "HR46WIh4KPMn"
      },
      "source": [
        "---\n",
        "\n",
        "Remove the target variable column from the list of continuous features\n",
        "\n",
        "---"
      ]
    },
    {
      "cell_type": "code",
      "execution_count": 33,
      "metadata": {
        "id": "MNqqqWU-J0ur"
      },
      "outputs": [],
      "source": [
        "## Remove the target variable column from the list of continuous features\n",
        "continuous_features.remove('rent')"
      ]
    },
    {
      "cell_type": "markdown",
      "metadata": {
        "id": "A8a9FPtBa3oy"
      },
      "source": [
        "---\n",
        "\n",
        "Plot the distributions of the features\n",
        "\n",
        "---"
      ]
    },
    {
      "cell_type": "code",
      "execution_count": null,
      "metadata": {
        "id": "JRareCODa7Mt"
      },
      "outputs": [],
      "source": []
    },
    {
      "cell_type": "markdown",
      "metadata": {
        "id": "8YOoSGUhKSAc"
      },
      "source": [
        "---\n",
        "\n",
        "Train-test split of the dataset\n",
        "\n",
        "---"
      ]
    },
    {
      "cell_type": "code",
      "execution_count": 34,
      "metadata": {
        "id": "E-_sG79VKMTL"
      },
      "outputs": [
        {
          "name": "stdout",
          "output_type": "stream",
          "text": [
            "# training samples = 202, # test samples = 23\n"
          ]
        }
      ],
      "source": [
        "## Train and test split of the data\n",
        "X = df.drop('rent', axis = 1)\n",
        "y = df['rent']\n",
        "X_train, X_test, y_train, y_test = train_test_split(X, y,\n",
        "                                                    test_size = 0.1,\n",
        "                                                    random_state = 1)\n",
        "print('# training samples = %d, # test samples = %d'%(X_train.shape[0], X_test.shape[0]))"
      ]
    },
    {
      "cell_type": "markdown",
      "metadata": {
        "id": "9iJ3fjvlRUYq"
      },
      "source": [
        "---\n",
        "\n",
        "Build pipeline for ordinal, categorical, and continuous features\n",
        "\n",
        "---"
      ]
    },
    {
      "cell_type": "code",
      "execution_count": null,
      "metadata": {
        "id": "LupJp1f5Rbcd"
      },
      "outputs": [],
      "source": [
        "## Build pipeline for ordinal, categorical, and continuous features\n",
        "\n",
        "# Pipeline object for ordinal features\n",
        "ordinal_transformer = Pipeline(steps = [('ordinalenc', OrdinalEncoder())])\n",
        "\n",
        "# Pipeline object for categorical (features\n",
        "categorical_transformer = Pipeline(steps = [('imputer', SimpleImputer(missing_values = ?, strategy = ?)), ('onehotenc', ?(handle_unknown = 'ignore'))])\n",
        "\n",
        "# Pipeline object for continuous features\n",
        "continuous_transformer = Pipeline(steps = [('scaler', ?)])\n",
        "\n",
        "# Create a preprocessor object for all features\n",
        "preprocessor = ColumnTransformer(transformers = [('continuous', continuous_transformer, continuous_features),\n",
        "                                                 ('categorical', categorical_transformer, categorical_features),\n",
        "                                                 ('ordinal', ordinal_transformer, ordinal_features)\n",
        "                                                ],\n",
        "                                 remainder = 'passthrough'\n",
        "                                 )\n",
        "\n",
        "# Define a classifier object\n",
        "regressor = linear_model.LinearRegression()\n",
        "\n",
        "# Define the entire classification model pipeline\n",
        "model_pipeline = Pipeline(steps = [('preprocessor', ?), ('regressor', ?)])"
      ]
    },
    {
      "cell_type": "code",
      "execution_count": 35,
      "metadata": {},
      "outputs": [],
      "source": [
        "# Pipeline object for ordinal features\n",
        "ordinal_transformer = Pipeline(steps=[('ordinalenc', OrdinalEncoder())])\n",
        "\n",
        "# Pipeline object for categorical features\n",
        "categorical_transformer = Pipeline(steps=[('imputer', SimpleImputer(strategy='most_frequent')), ('onehotenc', OneHotEncoder(handle_unknown='ignore'))])\n",
        "\n",
        "# Pipeline object for continuous features\n",
        "continuous_transformer = Pipeline(steps=[('scaler', StandardScaler())])\n",
        "\n",
        "# Create a preprocessor object for all features\n",
        "preprocessor = ColumnTransformer(transformers=[('continuous', continuous_transformer, continuous_features),\n",
        "                                               ('categorical', categorical_transformer, categorical_features),\n",
        "                                               ('ordinal', ordinal_transformer, ordinal_features)],\n",
        "                                 remainder='passthrough')\n",
        "\n",
        "# Define a classifier object\n",
        "regressor = linear_model.LinearRegression()\n",
        "\n",
        "# Define the entire classification model pipeline\n",
        "model_pipeline = Pipeline(steps=[('preprocessor', preprocessor), ('regressor', regressor)])"
      ]
    },
    {
      "cell_type": "code",
      "execution_count": 36,
      "metadata": {},
      "outputs": [
        {
          "data": {
            "text/plain": [
              "Index(['locality', 'area', 'price_per_sqft', 'facing', 'BHK', 'bathrooms',\n",
              "       'parking'],\n",
              "      dtype='object')"
            ]
          },
          "execution_count": 36,
          "metadata": {},
          "output_type": "execute_result"
        }
      ],
      "source": [
        "X_train.columns"
      ]
    },
    {
      "cell_type": "code",
      "execution_count": 37,
      "metadata": {},
      "outputs": [
        {
          "data": {
            "text/plain": [
              "Index(['locality', 'area', 'price_per_sqft', 'facing', 'BHK', 'bathrooms',\n",
              "       'parking'],\n",
              "      dtype='object')"
            ]
          },
          "execution_count": 37,
          "metadata": {},
          "output_type": "execute_result"
        }
      ],
      "source": [
        "X_test.columns"
      ]
    },
    {
      "cell_type": "code",
      "execution_count": null,
      "metadata": {},
      "outputs": [],
      "source": []
    },
    {
      "cell_type": "markdown",
      "metadata": {
        "id": "1aS_hLbcVIZa"
      },
      "source": [
        "---\n",
        "\n",
        "Fit the pipeline on the train data and test on the test data\n",
        "\n",
        "---"
      ]
    },
    {
      "cell_type": "code",
      "execution_count": 39,
      "metadata": {
        "id": "2_VzFnI2VHJe"
      },
      "outputs": [
        {
          "name": "stdout",
          "output_type": "stream",
          "text": [
            "Mean Squared Error : 202764566.1235892\n",
            "Root mean squared error: 14239.542342490828\n",
            "r2_score : 0.8243890501909235\n"
          ]
        }
      ],
      "source": [
        "## Fit the model pipeline on the train data and test on the test data\n",
        "model_pipeline.fit(X_train, y_train)\n",
        "y_pred = model_pipeline.predict(X_test)\n",
        "print('Mean Squared Error : {}'.format(mean_squared_error(y_test, y_pred)))\n",
        "print(\"Root mean squared error: {}\".format(np.sqrt(mean_squared_error(y_test, y_pred))))\n",
        "print('r2_score : {}'.format(r2_score(y_test, y_pred)))"
      ]
    },
    {
      "cell_type": "code",
      "execution_count": 40,
      "metadata": {},
      "outputs": [
        {
          "data": {
            "text/html": [
              "<div>\n",
              "<style scoped>\n",
              "    .dataframe tbody tr th:only-of-type {\n",
              "        vertical-align: middle;\n",
              "    }\n",
              "\n",
              "    .dataframe tbody tr th {\n",
              "        vertical-align: top;\n",
              "    }\n",
              "\n",
              "    .dataframe thead th {\n",
              "        text-align: right;\n",
              "    }\n",
              "</style>\n",
              "<table border=\"1\" class=\"dataframe\">\n",
              "  <thead>\n",
              "    <tr style=\"text-align: right;\">\n",
              "      <th></th>\n",
              "      <th>Actual Value</th>\n",
              "      <th>Predicted Value</th>\n",
              "      <th>Difference</th>\n",
              "    </tr>\n",
              "  </thead>\n",
              "  <tbody>\n",
              "    <tr>\n",
              "      <th>39</th>\n",
              "      <td>31522.0</td>\n",
              "      <td>39237.828358</td>\n",
              "      <td>-7715.828358</td>\n",
              "    </tr>\n",
              "    <tr>\n",
              "      <th>166</th>\n",
              "      <td>72658.0</td>\n",
              "      <td>96350.120729</td>\n",
              "      <td>-23692.120729</td>\n",
              "    </tr>\n",
              "    <tr>\n",
              "      <th>93</th>\n",
              "      <td>31522.0</td>\n",
              "      <td>12449.653508</td>\n",
              "      <td>19072.346492</td>\n",
              "    </tr>\n",
              "    <tr>\n",
              "      <th>62</th>\n",
              "      <td>35735.0</td>\n",
              "      <td>36014.045016</td>\n",
              "      <td>-279.045016</td>\n",
              "    </tr>\n",
              "    <tr>\n",
              "      <th>195</th>\n",
              "      <td>66484.0</td>\n",
              "      <td>74259.090502</td>\n",
              "      <td>-7775.090502</td>\n",
              "    </tr>\n",
              "    <tr>\n",
              "      <th>119</th>\n",
              "      <td>115000.0</td>\n",
              "      <td>105659.255241</td>\n",
              "      <td>9340.744759</td>\n",
              "    </tr>\n",
              "    <tr>\n",
              "      <th>38</th>\n",
              "      <td>20633.0</td>\n",
              "      <td>19523.802011</td>\n",
              "      <td>1109.197989</td>\n",
              "    </tr>\n",
              "    <tr>\n",
              "      <th>184</th>\n",
              "      <td>85971.0</td>\n",
              "      <td>119016.275510</td>\n",
              "      <td>-33045.275510</td>\n",
              "    </tr>\n",
              "    <tr>\n",
              "      <th>160</th>\n",
              "      <td>10316.0</td>\n",
              "      <td>-5375.155054</td>\n",
              "      <td>15691.155054</td>\n",
              "    </tr>\n",
              "    <tr>\n",
              "      <th>89</th>\n",
              "      <td>28657.0</td>\n",
              "      <td>8033.398055</td>\n",
              "      <td>20623.601945</td>\n",
              "    </tr>\n",
              "    <tr>\n",
              "      <th>4</th>\n",
              "      <td>34388.0</td>\n",
              "      <td>27825.543913</td>\n",
              "      <td>6562.456087</td>\n",
              "    </tr>\n",
              "    <tr>\n",
              "      <th>124</th>\n",
              "      <td>56741.0</td>\n",
              "      <td>59571.640356</td>\n",
              "      <td>-2830.640356</td>\n",
              "    </tr>\n",
              "    <tr>\n",
              "      <th>191</th>\n",
              "      <td>54448.0</td>\n",
              "      <td>66633.895033</td>\n",
              "      <td>-12185.895033</td>\n",
              "    </tr>\n",
              "    <tr>\n",
              "      <th>95</th>\n",
              "      <td>31522.0</td>\n",
              "      <td>17696.698262</td>\n",
              "      <td>13825.301738</td>\n",
              "    </tr>\n",
              "    <tr>\n",
              "      <th>98</th>\n",
              "      <td>28657.0</td>\n",
              "      <td>11815.340158</td>\n",
              "      <td>16841.659842</td>\n",
              "    </tr>\n",
              "    <tr>\n",
              "      <th>106</th>\n",
              "      <td>65911.0</td>\n",
              "      <td>72077.639895</td>\n",
              "      <td>-6166.639895</td>\n",
              "    </tr>\n",
              "    <tr>\n",
              "      <th>31</th>\n",
              "      <td>21206.0</td>\n",
              "      <td>19754.595508</td>\n",
              "      <td>1451.404492</td>\n",
              "    </tr>\n",
              "    <tr>\n",
              "      <th>105</th>\n",
              "      <td>91703.0</td>\n",
              "      <td>91027.946047</td>\n",
              "      <td>675.053953</td>\n",
              "    </tr>\n",
              "    <tr>\n",
              "      <th>67</th>\n",
              "      <td>43623.0</td>\n",
              "      <td>44475.215724</td>\n",
              "      <td>-852.215724</td>\n",
              "    </tr>\n",
              "    <tr>\n",
              "      <th>214</th>\n",
              "      <td>152000.0</td>\n",
              "      <td>168778.654591</td>\n",
              "      <td>-16778.654591</td>\n",
              "    </tr>\n",
              "    <tr>\n",
              "      <th>110</th>\n",
              "      <td>57314.0</td>\n",
              "      <td>60722.060836</td>\n",
              "      <td>-3408.060836</td>\n",
              "    </tr>\n",
              "    <tr>\n",
              "      <th>34</th>\n",
              "      <td>25791.0</td>\n",
              "      <td>35648.814645</td>\n",
              "      <td>-9857.814645</td>\n",
              "    </tr>\n",
              "    <tr>\n",
              "      <th>162</th>\n",
              "      <td>11462.0</td>\n",
              "      <td>-14237.207425</td>\n",
              "      <td>25699.207425</td>\n",
              "    </tr>\n",
              "  </tbody>\n",
              "</table>\n",
              "</div>"
            ],
            "text/plain": [
              "     Actual Value  Predicted Value    Difference\n",
              "39        31522.0     39237.828358  -7715.828358\n",
              "166       72658.0     96350.120729 -23692.120729\n",
              "93        31522.0     12449.653508  19072.346492\n",
              "62        35735.0     36014.045016   -279.045016\n",
              "195       66484.0     74259.090502  -7775.090502\n",
              "119      115000.0    105659.255241   9340.744759\n",
              "38        20633.0     19523.802011   1109.197989\n",
              "184       85971.0    119016.275510 -33045.275510\n",
              "160       10316.0     -5375.155054  15691.155054\n",
              "89        28657.0      8033.398055  20623.601945\n",
              "4         34388.0     27825.543913   6562.456087\n",
              "124       56741.0     59571.640356  -2830.640356\n",
              "191       54448.0     66633.895033 -12185.895033\n",
              "95        31522.0     17696.698262  13825.301738\n",
              "98        28657.0     11815.340158  16841.659842\n",
              "106       65911.0     72077.639895  -6166.639895\n",
              "31        21206.0     19754.595508   1451.404492\n",
              "105       91703.0     91027.946047    675.053953\n",
              "67        43623.0     44475.215724   -852.215724\n",
              "214      152000.0    168778.654591 -16778.654591\n",
              "110       57314.0     60722.060836  -3408.060836\n",
              "34        25791.0     35648.814645  -9857.814645\n",
              "162       11462.0    -14237.207425  25699.207425"
            ]
          },
          "execution_count": 40,
          "metadata": {},
          "output_type": "execute_result"
        }
      ],
      "source": [
        "pred_df=pd.DataFrame({'Actual Value':y_test,'Predicted Value':y_pred,'Difference':y_test-y_pred})\n",
        "pred_df"
      ]
    },
    {
      "cell_type": "code",
      "execution_count": null,
      "metadata": {},
      "outputs": [],
      "source": []
    }
  ],
  "metadata": {
    "colab": {
      "provenance": []
    },
    "kernelspec": {
      "display_name": "Python 3",
      "name": "python3"
    },
    "language_info": {
      "codemirror_mode": {
        "name": "ipython",
        "version": 3
      },
      "file_extension": ".py",
      "mimetype": "text/x-python",
      "name": "python",
      "nbconvert_exporter": "python",
      "pygments_lexer": "ipython3",
      "version": "3.10.4"
    }
  },
  "nbformat": 4,
  "nbformat_minor": 0
}
